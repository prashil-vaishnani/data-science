{
  "nbformat": 4,
  "nbformat_minor": 0,
  "metadata": {
    "colab": {
      "name": "DS1.ipynb",
      "provenance": []
    },
    "kernelspec": {
      "name": "python3",
      "display_name": "Python 3"
    },
    "language_info": {
      "name": "python"
    }
  },
  "cells": [
    {
      "cell_type": "markdown",
      "metadata": {
        "id": "hlGflDCbsOFq"
      },
      "source": [
        "18it142 prashil vaishnani"
      ]
    },
    {
      "cell_type": "code",
      "metadata": {
        "colab": {
          "base_uri": "https://localhost:8080/"
        },
        "id": "CGmZabtGso7m",
        "outputId": "4d28922b-3367-47dd-9eb6-f0fb70f2217d"
      },
      "source": [
        "pip install selenium\n"
      ],
      "execution_count": 2,
      "outputs": [
        {
          "output_type": "stream",
          "text": [
            "Collecting selenium\n",
            "  Downloading selenium-3.141.0-py2.py3-none-any.whl (904 kB)\n",
            "\u001b[?25l\r\u001b[K     |▍                               | 10 kB 19.0 MB/s eta 0:00:01\r\u001b[K     |▊                               | 20 kB 23.7 MB/s eta 0:00:01\r\u001b[K     |█                               | 30 kB 20.5 MB/s eta 0:00:01\r\u001b[K     |█▌                              | 40 kB 17.4 MB/s eta 0:00:01\r\u001b[K     |█▉                              | 51 kB 8.1 MB/s eta 0:00:01\r\u001b[K     |██▏                             | 61 kB 8.5 MB/s eta 0:00:01\r\u001b[K     |██▌                             | 71 kB 8.4 MB/s eta 0:00:01\r\u001b[K     |███                             | 81 kB 8.3 MB/s eta 0:00:01\r\u001b[K     |███▎                            | 92 kB 7.5 MB/s eta 0:00:01\r\u001b[K     |███▋                            | 102 kB 8.2 MB/s eta 0:00:01\r\u001b[K     |████                            | 112 kB 8.2 MB/s eta 0:00:01\r\u001b[K     |████▍                           | 122 kB 8.2 MB/s eta 0:00:01\r\u001b[K     |████▊                           | 133 kB 8.2 MB/s eta 0:00:01\r\u001b[K     |█████                           | 143 kB 8.2 MB/s eta 0:00:01\r\u001b[K     |█████▍                          | 153 kB 8.2 MB/s eta 0:00:01\r\u001b[K     |█████▉                          | 163 kB 8.2 MB/s eta 0:00:01\r\u001b[K     |██████▏                         | 174 kB 8.2 MB/s eta 0:00:01\r\u001b[K     |██████▌                         | 184 kB 8.2 MB/s eta 0:00:01\r\u001b[K     |██████▉                         | 194 kB 8.2 MB/s eta 0:00:01\r\u001b[K     |███████▎                        | 204 kB 8.2 MB/s eta 0:00:01\r\u001b[K     |███████▋                        | 215 kB 8.2 MB/s eta 0:00:01\r\u001b[K     |████████                        | 225 kB 8.2 MB/s eta 0:00:01\r\u001b[K     |████████▎                       | 235 kB 8.2 MB/s eta 0:00:01\r\u001b[K     |████████▊                       | 245 kB 8.2 MB/s eta 0:00:01\r\u001b[K     |█████████                       | 256 kB 8.2 MB/s eta 0:00:01\r\u001b[K     |█████████▍                      | 266 kB 8.2 MB/s eta 0:00:01\r\u001b[K     |█████████▉                      | 276 kB 8.2 MB/s eta 0:00:01\r\u001b[K     |██████████▏                     | 286 kB 8.2 MB/s eta 0:00:01\r\u001b[K     |██████████▌                     | 296 kB 8.2 MB/s eta 0:00:01\r\u001b[K     |██████████▉                     | 307 kB 8.2 MB/s eta 0:00:01\r\u001b[K     |███████████▎                    | 317 kB 8.2 MB/s eta 0:00:01\r\u001b[K     |███████████▋                    | 327 kB 8.2 MB/s eta 0:00:01\r\u001b[K     |████████████                    | 337 kB 8.2 MB/s eta 0:00:01\r\u001b[K     |████████████▎                   | 348 kB 8.2 MB/s eta 0:00:01\r\u001b[K     |████████████▊                   | 358 kB 8.2 MB/s eta 0:00:01\r\u001b[K     |█████████████                   | 368 kB 8.2 MB/s eta 0:00:01\r\u001b[K     |█████████████▍                  | 378 kB 8.2 MB/s eta 0:00:01\r\u001b[K     |█████████████▊                  | 389 kB 8.2 MB/s eta 0:00:01\r\u001b[K     |██████████████▏                 | 399 kB 8.2 MB/s eta 0:00:01\r\u001b[K     |██████████████▌                 | 409 kB 8.2 MB/s eta 0:00:01\r\u001b[K     |██████████████▉                 | 419 kB 8.2 MB/s eta 0:00:01\r\u001b[K     |███████████████▏                | 430 kB 8.2 MB/s eta 0:00:01\r\u001b[K     |███████████████▋                | 440 kB 8.2 MB/s eta 0:00:01\r\u001b[K     |████████████████                | 450 kB 8.2 MB/s eta 0:00:01\r\u001b[K     |████████████████▎               | 460 kB 8.2 MB/s eta 0:00:01\r\u001b[K     |████████████████▋               | 471 kB 8.2 MB/s eta 0:00:01\r\u001b[K     |█████████████████               | 481 kB 8.2 MB/s eta 0:00:01\r\u001b[K     |█████████████████▍              | 491 kB 8.2 MB/s eta 0:00:01\r\u001b[K     |█████████████████▊              | 501 kB 8.2 MB/s eta 0:00:01\r\u001b[K     |██████████████████▏             | 512 kB 8.2 MB/s eta 0:00:01\r\u001b[K     |██████████████████▌             | 522 kB 8.2 MB/s eta 0:00:01\r\u001b[K     |██████████████████▉             | 532 kB 8.2 MB/s eta 0:00:01\r\u001b[K     |███████████████████▏            | 542 kB 8.2 MB/s eta 0:00:01\r\u001b[K     |███████████████████▋            | 552 kB 8.2 MB/s eta 0:00:01\r\u001b[K     |████████████████████            | 563 kB 8.2 MB/s eta 0:00:01\r\u001b[K     |████████████████████▎           | 573 kB 8.2 MB/s eta 0:00:01\r\u001b[K     |████████████████████▋           | 583 kB 8.2 MB/s eta 0:00:01\r\u001b[K     |█████████████████████           | 593 kB 8.2 MB/s eta 0:00:01\r\u001b[K     |█████████████████████▍          | 604 kB 8.2 MB/s eta 0:00:01\r\u001b[K     |█████████████████████▊          | 614 kB 8.2 MB/s eta 0:00:01\r\u001b[K     |██████████████████████          | 624 kB 8.2 MB/s eta 0:00:01\r\u001b[K     |██████████████████████▌         | 634 kB 8.2 MB/s eta 0:00:01\r\u001b[K     |██████████████████████▉         | 645 kB 8.2 MB/s eta 0:00:01\r\u001b[K     |███████████████████████▏        | 655 kB 8.2 MB/s eta 0:00:01\r\u001b[K     |███████████████████████▌        | 665 kB 8.2 MB/s eta 0:00:01\r\u001b[K     |████████████████████████        | 675 kB 8.2 MB/s eta 0:00:01\r\u001b[K     |████████████████████████▎       | 686 kB 8.2 MB/s eta 0:00:01\r\u001b[K     |████████████████████████▋       | 696 kB 8.2 MB/s eta 0:00:01\r\u001b[K     |█████████████████████████       | 706 kB 8.2 MB/s eta 0:00:01\r\u001b[K     |█████████████████████████▍      | 716 kB 8.2 MB/s eta 0:00:01\r\u001b[K     |█████████████████████████▊      | 727 kB 8.2 MB/s eta 0:00:01\r\u001b[K     |██████████████████████████      | 737 kB 8.2 MB/s eta 0:00:01\r\u001b[K     |██████████████████████████▍     | 747 kB 8.2 MB/s eta 0:00:01\r\u001b[K     |██████████████████████████▉     | 757 kB 8.2 MB/s eta 0:00:01\r\u001b[K     |███████████████████████████▏    | 768 kB 8.2 MB/s eta 0:00:01\r\u001b[K     |███████████████████████████▌    | 778 kB 8.2 MB/s eta 0:00:01\r\u001b[K     |████████████████████████████    | 788 kB 8.2 MB/s eta 0:00:01\r\u001b[K     |████████████████████████████▎   | 798 kB 8.2 MB/s eta 0:00:01\r\u001b[K     |████████████████████████████▋   | 808 kB 8.2 MB/s eta 0:00:01\r\u001b[K     |█████████████████████████████   | 819 kB 8.2 MB/s eta 0:00:01\r\u001b[K     |█████████████████████████████▍  | 829 kB 8.2 MB/s eta 0:00:01\r\u001b[K     |█████████████████████████████▊  | 839 kB 8.2 MB/s eta 0:00:01\r\u001b[K     |██████████████████████████████  | 849 kB 8.2 MB/s eta 0:00:01\r\u001b[K     |██████████████████████████████▍ | 860 kB 8.2 MB/s eta 0:00:01\r\u001b[K     |██████████████████████████████▉ | 870 kB 8.2 MB/s eta 0:00:01\r\u001b[K     |███████████████████████████████▏| 880 kB 8.2 MB/s eta 0:00:01\r\u001b[K     |███████████████████████████████▌| 890 kB 8.2 MB/s eta 0:00:01\r\u001b[K     |███████████████████████████████▉| 901 kB 8.2 MB/s eta 0:00:01\r\u001b[K     |████████████████████████████████| 904 kB 8.2 MB/s \n",
            "\u001b[?25hRequirement already satisfied: urllib3 in /usr/local/lib/python3.7/dist-packages (from selenium) (1.24.3)\n",
            "Installing collected packages: selenium\n",
            "Successfully installed selenium-3.141.0\n"
          ],
          "name": "stdout"
        }
      ]
    },
    {
      "cell_type": "code",
      "metadata": {
        "colab": {
          "base_uri": "https://localhost:8080/"
        },
        "id": "BmYx5wRdstZ8",
        "outputId": "b935c3b6-c5e9-4e85-a740-270a87b153aa"
      },
      "source": [
        "!apt install chromium-chromedriver\n"
      ],
      "execution_count": 3,
      "outputs": [
        {
          "output_type": "stream",
          "text": [
            "Reading package lists... Done\n",
            "Building dependency tree       \n",
            "Reading state information... Done\n",
            "The following additional packages will be installed:\n",
            "  chromium-browser chromium-browser-l10n chromium-codecs-ffmpeg-extra\n",
            "Suggested packages:\n",
            "  webaccounts-chromium-extension unity-chromium-extension\n",
            "The following NEW packages will be installed:\n",
            "  chromium-browser chromium-browser-l10n chromium-chromedriver\n",
            "  chromium-codecs-ffmpeg-extra\n",
            "0 upgraded, 4 newly installed, 0 to remove and 40 not upgraded.\n",
            "Need to get 86.0 MB of archives.\n",
            "After this operation, 298 MB of additional disk space will be used.\n",
            "Get:1 http://archive.ubuntu.com/ubuntu bionic-updates/universe amd64 chromium-codecs-ffmpeg-extra amd64 91.0.4472.101-0ubuntu0.18.04.1 [1,124 kB]\n",
            "Get:2 http://archive.ubuntu.com/ubuntu bionic-updates/universe amd64 chromium-browser amd64 91.0.4472.101-0ubuntu0.18.04.1 [76.1 MB]\n",
            "Get:3 http://archive.ubuntu.com/ubuntu bionic-updates/universe amd64 chromium-browser-l10n all 91.0.4472.101-0ubuntu0.18.04.1 [3,937 kB]\n",
            "Get:4 http://archive.ubuntu.com/ubuntu bionic-updates/universe amd64 chromium-chromedriver amd64 91.0.4472.101-0ubuntu0.18.04.1 [4,837 kB]\n",
            "Fetched 86.0 MB in 6s (15.6 MB/s)\n",
            "Selecting previously unselected package chromium-codecs-ffmpeg-extra.\n",
            "(Reading database ... 160837 files and directories currently installed.)\n",
            "Preparing to unpack .../chromium-codecs-ffmpeg-extra_91.0.4472.101-0ubuntu0.18.04.1_amd64.deb ...\n",
            "Unpacking chromium-codecs-ffmpeg-extra (91.0.4472.101-0ubuntu0.18.04.1) ...\n",
            "Selecting previously unselected package chromium-browser.\n",
            "Preparing to unpack .../chromium-browser_91.0.4472.101-0ubuntu0.18.04.1_amd64.deb ...\n",
            "Unpacking chromium-browser (91.0.4472.101-0ubuntu0.18.04.1) ...\n",
            "Selecting previously unselected package chromium-browser-l10n.\n",
            "Preparing to unpack .../chromium-browser-l10n_91.0.4472.101-0ubuntu0.18.04.1_all.deb ...\n",
            "Unpacking chromium-browser-l10n (91.0.4472.101-0ubuntu0.18.04.1) ...\n",
            "Selecting previously unselected package chromium-chromedriver.\n",
            "Preparing to unpack .../chromium-chromedriver_91.0.4472.101-0ubuntu0.18.04.1_amd64.deb ...\n",
            "Unpacking chromium-chromedriver (91.0.4472.101-0ubuntu0.18.04.1) ...\n",
            "Setting up chromium-codecs-ffmpeg-extra (91.0.4472.101-0ubuntu0.18.04.1) ...\n",
            "Setting up chromium-browser (91.0.4472.101-0ubuntu0.18.04.1) ...\n",
            "update-alternatives: using /usr/bin/chromium-browser to provide /usr/bin/x-www-browser (x-www-browser) in auto mode\n",
            "update-alternatives: using /usr/bin/chromium-browser to provide /usr/bin/gnome-www-browser (gnome-www-browser) in auto mode\n",
            "Setting up chromium-chromedriver (91.0.4472.101-0ubuntu0.18.04.1) ...\n",
            "Setting up chromium-browser-l10n (91.0.4472.101-0ubuntu0.18.04.1) ...\n",
            "Processing triggers for man-db (2.8.3-2ubuntu0.1) ...\n",
            "Processing triggers for hicolor-icon-theme (0.17-2) ...\n",
            "Processing triggers for mime-support (3.60ubuntu1) ...\n",
            "Processing triggers for libc-bin (2.27-3ubuntu1.2) ...\n",
            "/sbin/ldconfig.real: /usr/local/lib/python3.7/dist-packages/ideep4py/lib/libmkldnn.so.0 is not a symbolic link\n",
            "\n"
          ],
          "name": "stdout"
        }
      ]
    },
    {
      "cell_type": "code",
      "metadata": {
        "id": "7n_AthS1sLyw"
      },
      "source": [
        "import pandas as pd\n",
        "from bs4 import BeautifulSoup\n",
        "from selenium import webdriver"
      ],
      "execution_count": 4,
      "outputs": []
    },
    {
      "cell_type": "code",
      "metadata": {
        "colab": {
          "base_uri": "https://localhost:8080/"
        },
        "id": "qpBtfry9tASw",
        "outputId": "9eb89e7d-709f-44bb-be3e-a6b503d77660"
      },
      "source": [
        "from selenium import webdriver\n",
        "chrome_options = webdriver.ChromeOptions()\n",
        "chrome_options.add_argument('--headless')\n",
        "chrome_options.add_argument('--no-sandbox')\n",
        "chrome_options.add_argument('--disable-dev-shm-usage')\n",
        "wd = webdriver.Chrome('chromedriver',chrome_options=chrome_options)\n",
        "driver =webdriver.Chrome('chromedriver',chrome_options=chrome_options)"
      ],
      "execution_count": 5,
      "outputs": [
        {
          "output_type": "stream",
          "text": [
            "/usr/local/lib/python3.7/dist-packages/ipykernel_launcher.py:6: DeprecationWarning: use options instead of chrome_options\n",
            "  \n",
            "/usr/local/lib/python3.7/dist-packages/ipykernel_launcher.py:7: DeprecationWarning: use options instead of chrome_options\n",
            "  import sys\n"
          ],
          "name": "stderr"
        }
      ]
    },
    {
      "cell_type": "code",
      "metadata": {
        "colab": {
          "base_uri": "https://localhost:8080/"
        },
        "id": "4KakKfrgtCrE",
        "outputId": "369333fd-c823-47c1-ffdc-f7f4889db9ea"
      },
      "source": [
        "products=[] \n",
        "prices=[] \n",
        "features=[]\n",
        "ratings=[]\n",
        "\n",
        "\n",
        "driver.get(\"https://www.flipkart.com/search?q=iphone&sid=tyy%2C4io&as=on&as-show=on&otracker=AS_QueryStore_OrganicAutoSuggest_1_4_na_na_na&otracker1=AS_QueryStore_OrganicAutoSuggest_1_4_na_na_na&as-pos=1&as-type=HISTORY&suggestionId=iphone%7CMobiles&requestId=4fb020d2-4b74-4102-9a38-e8b54f4ca2c3\")\n",
        "\n",
        "\n",
        "content = driver.page_source\n",
        "soup = BeautifulSoup(content,'html.parser')\n",
        "\n",
        "\n",
        "for a in soup.findAll('a',href=True, attrs={'class':'_1fQZEK'}):\n",
        "\n",
        "  name=a.find('div',attrs={'class':'_4rR01T'})\n",
        "  price=a.find('div',attrs={'class':'_30jeq3 _1_WHN1'})\n",
        "  rating=a.find('div',attrs={'class':'_3LWZlK'})\n",
        "  \n",
        "  products.append(name.text)\n",
        "  prices.append(price.text)\n",
        "  ratings.append(rating.text) \n",
        "\n",
        "\n",
        "df = pd.DataFrame({'Product Name':products,'Price':prices,'Rating':ratings}) \n",
        "print(df.head())\n",
        "df.to_csv('products.csv', index=False, encoding='utf-8')"
      ],
      "execution_count": 9,
      "outputs": [
        {
          "output_type": "stream",
          "text": [
            "                      Product Name    Price Rating\n",
            "0   APPLE iPhone 12 (Blue, 128 GB)  ₹82,900    4.6\n",
            "1  APPLE iPhone SE (Black, 128 GB)  ₹37,999    4.5\n",
            "2  APPLE iPhone 12 (Black, 128 GB)  ₹82,900    4.6\n",
            "3   APPLE iPhone XR (White, 64 GB)  ₹41,999    4.6\n",
            "4  APPLE iPhone 12 (White, 128 GB)  ₹82,900    4.6\n"
          ],
          "name": "stdout"
        }
      ]
    }
  ]
}